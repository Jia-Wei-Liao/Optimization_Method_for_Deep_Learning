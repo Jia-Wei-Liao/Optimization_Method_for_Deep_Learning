{
  "nbformat": 4,
  "nbformat_minor": 0,
  "metadata": {
    "colab": {
      "name": "Optimization_Method.ipynb",
      "provenance": [],
      "authorship_tag": "ABX9TyOoRC439Zx7MYjcSHInjXOw",
      "include_colab_link": true
    },
    "kernelspec": {
      "name": "python3",
      "display_name": "Python 3"
    },
    "language_info": {
      "name": "python"
    }
  },
  "cells": [
    {
      "cell_type": "markdown",
      "metadata": {
        "id": "view-in-github",
        "colab_type": "text"
      },
      "source": [
        "<a href=\"https://colab.research.google.com/github/Jia-Wei-Liao/Optimization/blob/main/Optimization_Method.ipynb\" target=\"_parent\"><img src=\"https://colab.research.google.com/assets/colab-badge.svg\" alt=\"Open In Colab\"/></a>"
      ]
    },
    {
      "cell_type": "code",
      "metadata": {
        "id": "ord-IVKeJXUQ"
      },
      "source": [
        "import time\n",
        "import numpy as np\n",
        "import matplotlib.pyplot as plt"
      ],
      "execution_count": 1,
      "outputs": []
    },
    {
      "cell_type": "code",
      "metadata": {
        "id": "uu3lM5NYJw7c"
      },
      "source": [
        "def MSE(b, w, X, Y):\n",
        "  return np.sum((Y - w*X- b)**2)"
      ],
      "execution_count": 2,
      "outputs": []
    },
    {
      "cell_type": "code",
      "metadata": {
        "id": "at_HWlAaKGXK"
      },
      "source": [
        "X = np.array([338, 333, 328, 207, 226, 25, 179, 60, 208, 606], dtype='float32')\n",
        "Y = np.array([640, 633, 619, 393, 428, 27, 193, 66, 226, 1591], dtype='float32')\n",
        "loss = np.vectorize(lambda B, W : MSE(B, W, X, Y))"
      ],
      "execution_count": 3,
      "outputs": []
    },
    {
      "cell_type": "code",
      "metadata": {
        "id": "WvcxGFFbKWrI"
      },
      "source": [
        "class optimizers:\n",
        "  def __init__(self, X, Y, lr, Type='gradient_descent'):\n",
        "    self.i = 0\n",
        "    self.X = X\n",
        "    self.Y = Y\n",
        "    self.lr = lr\n",
        "    self.theta = {'w':0, 'b':0}\n",
        "    self.grad  = {'w':0, 'b':0}\n",
        "    self.beta1 = 0.9\n",
        "    self.beta2 = 0.999\n",
        "    self.eps = 1e-8\n",
        "    self.m = {'w':0, 'b':0}\n",
        "    self.v = {'w':0, 'b':0}\n",
        "    self.type = Type\n",
        "    self.stop_criterion = False\n",
        "    self.option = {'GD':self.GD, 'adagrad':self.AdaGrad, 'rms':self.RMS,\n",
        "            'adam':self.Adam, 'adamax':self.AdaMax}\n",
        "    self.optimizer = self.option[Type]\n",
        "    \n",
        "    \n",
        "  def compute_grad(self):\n",
        "    tmp = -2*(self.Y-self.theta['w']*self.X-self.theta['b'])\n",
        "    self.grad['w'], self.grad['b'] = np.dot(tmp, self.X), np.sum(tmp)\n",
        "\n",
        "  \n",
        "  def GD(self, var):\n",
        "    self.theta[var] -= self.lr*self.grad[var]\n",
        "      \n",
        "      \n",
        "  def AdaGrad(self, var):\n",
        "    self.v[var] += self.grad[var]**2\n",
        "    self.theta[var] -= self.lr*self.grad[var]/np.sqrt(self.v[var]+self.eps)\n",
        "      \n",
        "  \n",
        "  def RMS(self, var):\n",
        "    self.v[var] = self.beta1 * self.v[var] + (1-self.beta1) * self.grad[var]**2\n",
        "    self.theta[var] -= self.lr*self.grad[var]/np.sqrt(self.v[var]+self.eps)\n",
        "  \n",
        "\n",
        "  def Adam(self, var):\n",
        "    self.m[var] = self.beta1 * self.m[var] + (1-self.beta1) * self.grad[var]\n",
        "    self.v[var] = self.beta2 * self.v[var] + (1-self.beta2) * self.grad[var]**2\n",
        "    m_ = self.m[var]/(1-self.beta1**self.i)\n",
        "    v_ = self.v[var]/(1-self.beta2**self.i)\n",
        "    self.theta[var] -= self.lr*m_/np.sqrt(v_+self.eps)\n",
        "      \n",
        "  \n",
        "  def AdaMax(self, var):\n",
        "    self.m[var] = self.beta1 * self.m[var] + (1-self.beta1) * self.grad[var]\n",
        "    self.v[var] = max(self.beta2*self.v[var], abs(self.grad[var]))\n",
        "    self.theta[var] -= (self.lr/(1-self.beta1**self.i)) * (self.m[var]/self.v[var])\n",
        "      \n",
        "\n",
        "  def updata_parameter(self):\n",
        "    self.i += 1\n",
        "    self.compute_grad()\n",
        "    w, b = self.theta['w'], self.theta['b']\n",
        "    \n",
        "    self.optimizer('w')\n",
        "    self.optimizer('b')\n",
        "    \n",
        "    if abs(self.theta['b']-b) < 1e-5 and abs(self.theta['w']-w) < 1e-5:\n",
        "        self.stop_criterion = True\n",
        "    \n",
        "    return self.theta['w'], self.theta['b']"
      ],
      "execution_count": 4,
      "outputs": []
    },
    {
      "cell_type": "code",
      "metadata": {
        "id": "32r2lcLDKI3P"
      },
      "source": [
        "def PlotSurf(b_history, w_history):\n",
        "  b = np.linspace(-200, -100, 100)\n",
        "  w = np.linspace(-5, 5, 25)\n",
        "  B, W = np.meshgrid(b, w)\n",
        "  Z = loss(W, B)\n",
        "\n",
        "  plt.contourf(B, W, Z, 50, alpha=0.5, cmap=plt.get_cmap('jet'))\n",
        "  plt.plot([-188.4], [2.67], 'x', ms=12, markeredgewidth=3,color='orange')\n",
        "  plt.plot(b_history, w_history, '*-', ms=3, lw=1.5, color='red')\n",
        "  plt.colorbar()\n",
        "  plt.xlim(-200,-100)\n",
        "  plt.ylim(-5,5)\n",
        "  plt.title(\"Loss surface\")\n",
        "  plt.show()"
      ],
      "execution_count": 5,
      "outputs": []
    },
    {
      "cell_type": "code",
      "metadata": {
        "id": "OfiB7EgfKzz_"
      },
      "source": [
        "def Demo(w0, b0, lr, maxiter, X, Y, optimizer):\n",
        "  optimizer.theta['w'], optimizer.theta['b'] = w0, b0\n",
        "  w_history, b_history = [w0], [b0]\n",
        "  start_time = time.time()\n",
        "\n",
        "  for i in range(maxiter):\n",
        "    w, b = optimizer.updata_parameter()\n",
        "    w_history.append(w)\n",
        "    b_history.append(b)\n",
        "    if optimizer.stop_criterion: break\n",
        "    \n",
        "  end_time = time.time() - start_time\n",
        "\n",
        "  print(f'iteration: {i+1}, time: {end_time:.4f} sec, (b,w)=({b:.4f}, {w:.4f})')\n",
        "  PlotSurf(b_history, w_history)"
      ],
      "execution_count": 6,
      "outputs": []
    },
    {
      "cell_type": "markdown",
      "metadata": {
        "id": "RT8vAZvsLFu-"
      },
      "source": [
        "## Gradient Descent"
      ]
    },
    {
      "cell_type": "code",
      "metadata": {
        "colab": {
          "base_uri": "https://localhost:8080/",
          "height": 299
        },
        "id": "DMPKoLcsLHkf",
        "outputId": "c14ec1ca-aae4-446c-92aa-d5caf2f9d2d4"
      },
      "source": [
        "w0, b0 = -4, -120\n",
        "lr = 1e-6\n",
        "maxiter = 1000000\n",
        "GD = optimizers(X, Y, lr, 'GD')\n",
        "Demo(w0, b0, lr, maxiter, X, Y, GD)"
      ],
      "execution_count": 7,
      "outputs": [
        {
          "output_type": "stream",
          "text": [
            "iteration: 653351, time: 18.6064 sec, (b,w)=(-186.6388, 2.6643)\n"
          ],
          "name": "stdout"
        },
        {
          "output_type": "display_data",
          "data": {
            "image/png": "[encoded data removed]",
            "text/plain": [
              "<Figure size 432x288 with 2 Axes>"
            ]
          },
          "metadata": {
            "tags": [],
            "needs_background": "light"
          }
        }
      ]
    },
    {
      "cell_type": "markdown",
      "metadata": {
        "id": "PrP6_QA4Lgcl"
      },
      "source": [
        "## Adagrad"
      ]
    },
    {
      "cell_type": "code",
      "metadata": {
        "colab": {
          "base_uri": "https://localhost:8080/",
          "height": 299
        },
        "id": "9yc0FgMILVgj",
        "outputId": "64056bc8-9de7-4d74-86c5-962990e44eeb"
      },
      "source": [
        "w0, b0 = -4., -120.\n",
        "lr = 1\n",
        "maxiter = 1000000\n",
        "Adagrad = optimizers(X, Y, lr, 'adagrad')\n",
        "Demo(w0, b0, lr, maxiter, X, Y, Adagrad)"
      ],
      "execution_count": 8,
      "outputs": [
        {
          "output_type": "stream",
          "text": [
            "iteration: 88972, time: 4.1410 sec, (b,w)=(-188.2899, 2.6690)\n"
          ],
          "name": "stdout"
        },
        {
          "output_type": "display_data",
          "data": {
            "image/png": "[encoded data removed]",
            "text/plain": [
              "<Figure size 432x288 with 2 Axes>"
            ]
          },
          "metadata": {
            "tags": [],
            "needs_background": "light"
          }
        }
      ]
    },
    {
      "cell_type": "markdown",
      "metadata": {
        "id": "gp7140ZXLvPA"
      },
      "source": [
        "## RMSprop"
      ]
    },
    {
      "cell_type": "code",
      "metadata": {
        "colab": {
          "base_uri": "https://localhost:8080/",
          "height": 299
        },
        "id": "Ir8QuNdtLt2F",
        "outputId": "2209656c-9d7a-4474-bb19-23a005713813"
      },
      "source": [
        "w0, b0 = -4, -120\n",
        "lr = 0.01\n",
        "maxiter = 1000000\n",
        "RMS = optimizers(X, Y, lr, 'rms')\n",
        "RMS.beta1 = 0.9\n",
        "Demo(w0, b0, lr, maxiter, X, Y, RMS)"
      ],
      "execution_count": 9,
      "outputs": [
        {
          "output_type": "stream",
          "text": [
            "iteration: 1000000, time: 51.3405 sec, (b,w)=(-188.4382, 2.6645)\n"
          ],
          "name": "stdout"
        },
        {
          "output_type": "display_data",
          "data": {
            "image/png": "[encoded data removed]",
            "text/plain": [
              "<Figure size 432x288 with 2 Axes>"
            ]
          },
          "metadata": {
            "tags": [],
            "needs_background": "light"
          }
        }
      ]
    },
    {
      "cell_type": "markdown",
      "metadata": {
        "id": "WXZHJX5JL7lN"
      },
      "source": [
        "## Adam"
      ]
    },
    {
      "cell_type": "code",
      "metadata": {
        "colab": {
          "base_uri": "https://localhost:8080/",
          "height": 299
        },
        "id": "GstXrbLULqSp",
        "outputId": "fbfce1da-fdd9-4feb-884e-b8e2ee2e9599"
      },
      "source": [
        "w0, b0 = -4, -120\n",
        "lr = 0.01\n",
        "maxiter = 1000000\n",
        "Adam = optimizers(X, Y, lr, 'adam')\n",
        "Demo(w0, b0, lr, maxiter, X, Y, Adam)"
      ],
      "execution_count": 10,
      "outputs": [
        {
          "output_type": "stream",
          "text": [
            "iteration: 19061, time: 0.8873 sec, (b,w)=(-188.4310, 2.6695)\n"
          ],
          "name": "stdout"
        },
        {
          "output_type": "display_data",
          "data": {
            "image/png": "[encoded data removed]",
            "text/plain": [
              "<Figure size 432x288 with 2 Axes>"
            ]
          },
          "metadata": {
            "tags": [],
            "needs_background": "light"
          }
        }
      ]
    },
    {
      "cell_type": "code",
      "metadata": {
        "colab": {
          "base_uri": "https://localhost:8080/",
          "height": 299
        },
        "id": "OvQmMJcyMKbC",
        "outputId": "7deac140-47dd-4993-923c-402d8fa6f8f8"
      },
      "source": [
        "w0, b0 = -4, -120\n",
        "lr = 0.01\n",
        "maxiter = 1000000\n",
        "AdaMax = optimizers(X, Y, lr, 'adamax')\n",
        "Demo(w0, b0, lr, maxiter, X, Y, AdaMax)"
      ],
      "execution_count": 11,
      "outputs": [
        {
          "output_type": "stream",
          "text": [
            "iteration: 12186, time: 0.6440 sec, (b,w)=(-188.4322, 2.6695)\n"
          ],
          "name": "stdout"
        },
        {
          "output_type": "display_data",
          "data": {
            "image/png": "[encoded data removed]",
            "text/plain": [
              "<Figure size 432x288 with 2 Axes>"
            ]
          },
          "metadata": {
            "tags": [],
            "needs_background": "light"
          }
        }
      ]
    }
  ]
}